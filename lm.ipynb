{
 "cells": [
  {
   "cell_type": "markdown",
   "metadata": {},
   "source": [
    "### Question: Write a python Notebook to-\n",
    " \n",
    "assume a length N.\n",
    "Generate the truth table of size N.\n",
    " \n",
    "example:\n",
    "N= 3\n",
    " \n",
    "output:\n",
    "000\n",
    "001\n",
    "010\n",
    "011\n",
    "100\n",
    "101\n",
    "110\n",
    "111\n",
    " \n",
    " \n",
    "Then convert this notebook into a python script that accepts N from user as input instead of assumption."
   ]
  },
  {
   "cell_type": "code",
   "execution_count": 4,
   "metadata": {},
   "outputs": [],
   "source": [
    "def decimalToBinary(n):\n",
    "    return \"{0:b}\".format(int(n))\n",
    "    \n"
   ]
  },
  {
   "cell_type": "code",
   "execution_count": 5,
   "metadata": {},
   "outputs": [],
   "source": [
    "def func(m):\n",
    "    for i in range(0,2**m):\n",
    "        f=decimalToBinary(i)\n",
    "        f=str(f)\n",
    "        for j in range(len(f),m):\n",
    "            f=f+\"0\"\n",
    "        print(f)\n",
    "        \n",
    "        "
   ]
  },
  {
   "cell_type": "code",
   "execution_count": 6,
   "metadata": {},
   "outputs": [
    {
     "name": "stdout",
     "output_type": "stream",
     "text": [
      "000\n",
      "100\n",
      "100\n",
      "110\n",
      "100\n",
      "101\n",
      "110\n",
      "111\n"
     ]
    }
   ],
   "source": [
    "func(3)"
   ]
  },
  {
   "cell_type": "code",
   "execution_count": 7,
   "metadata": {},
   "outputs": [
    {
     "name": "stdout",
     "output_type": "stream",
     "text": [
      "Writing lm.py\n"
     ]
    }
   ],
   "source": [
    "%%writefile lm.py\n",
    "def decimalToBinary(n):\n",
    "    return \"{0:b}\".format(int(n))\n",
    "def func(m):\n",
    "    for i in range(0,2**m):\n",
    "        f=decimalToBinary(i)\n",
    "        f=str(f)\n",
    "        for j in range(len(f),m):\n",
    "            f=f+\"0\"\n",
    "        print(f)"
   ]
  },
  {
   "cell_type": "code",
   "execution_count": 8,
   "metadata": {},
   "outputs": [
    {
     "name": "stdout",
     "output_type": "stream",
     "text": [
      "def decimalToBinary(n):\r\n",
      "    return \"{0:b}\".format(int(n))\r\n",
      "def func(m):\r\n",
      "    for i in range(0,2**m):\r\n",
      "        f=decimalToBinary(i)\r\n",
      "        f=str(f)\r\n",
      "        for j in range(len(f),m):\r\n",
      "            f=f+\"0\"\r\n",
      "        print(f)\r\n"
     ]
    }
   ],
   "source": [
    "! cat lm.py"
   ]
  },
  {
   "cell_type": "code",
   "execution_count": null,
   "metadata": {},
   "outputs": [],
   "source": []
  }
 ],
 "metadata": {
  "kernelspec": {
   "display_name": "Python 3",
   "language": "python",
   "name": "python3"
  },
  "language_info": {
   "codemirror_mode": {
    "name": "ipython",
    "version": 3
   },
   "file_extension": ".py",
   "mimetype": "text/x-python",
   "name": "python",
   "nbconvert_exporter": "python",
   "pygments_lexer": "ipython3",
   "version": "3.8.3"
  }
 },
 "nbformat": 4,
 "nbformat_minor": 4
}
